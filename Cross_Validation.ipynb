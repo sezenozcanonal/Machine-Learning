{
 "cells": [
  {
   "cell_type": "markdown",
   "metadata": {},
   "source": [
    "Cross-validation (CV) is a model evaluation method that provides insight into how well the model will perform on new and unseen datasets.\n",
    "Let’s see the cross-validation methods that will be covered here.\n",
    "\n",
    "1) The Validation Set Approach: Randomly dividing the available set of observations into two parts, a training set, and a validation set or hold-out set. The model is fit on the training set, and the fitted model is used to predict the responses for the observations in the validation set. The resulting validation set error rate (MSE in the case of a quantitative response) provides an estimate of the test error rate. \n",
    "\n",
    "2) Leave-One-Out Cross-Validation: Split a dataset into a training set and a testing set. However, instead of creating two subsets of comparable size, a single observation is used for the validation set, and the remaining observations make up the training set. Then build a statistical learning method using only data from the training set and use the model to predict the response of the one observation left out of the model and calculate the MSE. Repeat the process n times.   \n",
    "\n",
    "  "
   ]
  },
  {
   "cell_type": "code",
   "execution_count": 2,
   "metadata": {},
   "outputs": [],
   "source": [
    "import numpy as np\n",
    "import pandas as pd\n",
    "import matplotlib.pyplot as plt\n",
    "import seaborn as sns\n",
    "from sklearn.linear_model import LogisticRegression\n",
    "from sklearn.metrics import confusion_matrix\n",
    "from IPython.display import display, HTML\n",
    "import statsmodels.api as sm\n",
    "import statsmodels.formula.api as smf\n",
    "from sklearn import datasets\n",
    "from scipy import stats\n",
    "from sklearn.datasets import make_classification"
   ]
  },
  {
   "cell_type": "code",
   "execution_count": 3,
   "metadata": {},
   "outputs": [
    {
     "name": "stdout",
     "output_type": "stream",
     "text": [
      "\n",
      "Target Class: \n",
      "   TargetClass\n",
      "0            1\n",
      "1            1\n",
      "2            1\n",
      "3            0\n",
      "4            1\n",
      "Feature Matrix: \n"
     ]
    },
    {
     "data": {
      "text/html": [
       "<div>\n",
       "<style scoped>\n",
       "    .dataframe tbody tr th:only-of-type {\n",
       "        vertical-align: middle;\n",
       "    }\n",
       "\n",
       "    .dataframe tbody tr th {\n",
       "        vertical-align: top;\n",
       "    }\n",
       "\n",
       "    .dataframe thead th {\n",
       "        text-align: right;\n",
       "    }\n",
       "</style>\n",
       "<table border=\"1\" class=\"dataframe\">\n",
       "  <thead>\n",
       "    <tr style=\"text-align: right;\">\n",
       "      <th></th>\n",
       "      <th>x1</th>\n",
       "      <th>x2</th>\n",
       "      <th>x3</th>\n",
       "      <th>x4</th>\n",
       "      <th>x5</th>\n",
       "      <th>y</th>\n",
       "    </tr>\n",
       "  </thead>\n",
       "  <tbody>\n",
       "    <tr>\n",
       "      <th>0</th>\n",
       "      <td>-0.085933</td>\n",
       "      <td>-0.387788</td>\n",
       "      <td>-1.125196</td>\n",
       "      <td>-0.003456</td>\n",
       "      <td>-1.864406</td>\n",
       "      <td>1.0</td>\n",
       "    </tr>\n",
       "    <tr>\n",
       "      <th>1</th>\n",
       "      <td>-1.777683</td>\n",
       "      <td>0.206918</td>\n",
       "      <td>-0.433815</td>\n",
       "      <td>1.576912</td>\n",
       "      <td>0.268240</td>\n",
       "      <td>1.0</td>\n",
       "    </tr>\n",
       "    <tr>\n",
       "      <th>2</th>\n",
       "      <td>-1.161370</td>\n",
       "      <td>1.939040</td>\n",
       "      <td>-0.404667</td>\n",
       "      <td>1.989070</td>\n",
       "      <td>0.361136</td>\n",
       "      <td>1.0</td>\n",
       "    </tr>\n",
       "    <tr>\n",
       "      <th>3</th>\n",
       "      <td>-3.754439</td>\n",
       "      <td>-1.218731</td>\n",
       "      <td>0.696586</td>\n",
       "      <td>3.217664</td>\n",
       "      <td>2.876382</td>\n",
       "      <td>0.0</td>\n",
       "    </tr>\n",
       "    <tr>\n",
       "      <th>4</th>\n",
       "      <td>-1.452071</td>\n",
       "      <td>1.657636</td>\n",
       "      <td>-0.259698</td>\n",
       "      <td>0.766656</td>\n",
       "      <td>-2.083101</td>\n",
       "      <td>1.0</td>\n",
       "    </tr>\n",
       "  </tbody>\n",
       "</table>\n",
       "</div>"
      ],
      "text/plain": [
       "         x1        x2        x3        x4        x5    y\n",
       "0 -0.085933 -0.387788 -1.125196 -0.003456 -1.864406  1.0\n",
       "1 -1.777683  0.206918 -0.433815  1.576912  0.268240  1.0\n",
       "2 -1.161370  1.939040 -0.404667  1.989070  0.361136  1.0\n",
       "3 -3.754439 -1.218731  0.696586  3.217664  2.876382  0.0\n",
       "4 -1.452071  1.657636 -0.259698  0.766656 -2.083101  1.0"
      ]
     },
     "execution_count": 3,
     "metadata": {},
     "output_type": "execute_result"
    }
   ],
   "source": [
    "# Data Generation \n",
    "features, output = make_classification(n_samples = 1000,\n",
    "                                       n_features = 5,\n",
    "                                       n_informative = 5,\n",
    "                                       n_redundant = 0,\n",
    "                                       n_classes = 2,\n",
    "                                       weights = [.2, .3])\n",
    "print()\n",
    "print(\"Target Class: \");\n",
    "print(pd.DataFrame(output, columns=[\"TargetClass\"]).head())\n",
    "print(\"Feature Matrix: \");\n",
    "\n",
    "df = pd.DataFrame(np.hstack((features, output.reshape(-1, 1))))\n",
    "\n",
    "df = df.rename(columns={0: 'x1', 1: 'x2', 2: 'x3',3:'x4', 4:'x5', 5:'y'})\n",
    "df.head()"
   ]
  },
  {
   "cell_type": "markdown",
   "metadata": {},
   "source": [
    "The Validation Set Approach: \n",
    "   1)  Split the sample set into a training set and a validation set\n",
    "   2)  Fit a multiple logistic regression model using only the training observations. \n",
    "   3)  Use fitted model to to predict the responses for the observations in the validation set. \n",
    "   4)  Compute the validation set error, which is the fraction of the observations in the validation set that are misclassified.\n",
    "   5)  Repeat the process in three times, using three different splits of the observations into a training set and a validation set. "
   ]
  },
  {
   "cell_type": "code",
   "execution_count": 4,
   "metadata": {},
   "outputs": [
    {
     "data": {
      "text/html": [
       "<h3>Random seed = 1</h3>"
      ],
      "text/plain": [
       "<IPython.core.display.HTML object>"
      ]
     },
     "metadata": {},
     "output_type": "display_data"
    },
    {
     "data": {
      "text/html": [
       "<div>\n",
       "<style scoped>\n",
       "    .dataframe tbody tr th:only-of-type {\n",
       "        vertical-align: middle;\n",
       "    }\n",
       "\n",
       "    .dataframe tbody tr th {\n",
       "        vertical-align: top;\n",
       "    }\n",
       "\n",
       "    .dataframe thead th {\n",
       "        text-align: right;\n",
       "    }\n",
       "</style>\n",
       "<table border=\"1\" class=\"dataframe\">\n",
       "  <thead>\n",
       "    <tr style=\"text-align: right;\">\n",
       "      <th></th>\n",
       "      <th>y_pred=0</th>\n",
       "      <th>y_pred=1</th>\n",
       "      <th>Total</th>\n",
       "    </tr>\n",
       "    <tr>\n",
       "      <th></th>\n",
       "      <th></th>\n",
       "      <th></th>\n",
       "      <th></th>\n",
       "    </tr>\n",
       "  </thead>\n",
       "  <tbody>\n",
       "    <tr>\n",
       "      <th>y=0</th>\n",
       "      <td>196</td>\n",
       "      <td>33</td>\n",
       "      <td>229</td>\n",
       "    </tr>\n",
       "    <tr>\n",
       "      <th>y=1</th>\n",
       "      <td>23</td>\n",
       "      <td>254</td>\n",
       "      <td>277</td>\n",
       "    </tr>\n",
       "    <tr>\n",
       "      <th>Total</th>\n",
       "      <td>219</td>\n",
       "      <td>287</td>\n",
       "      <td></td>\n",
       "    </tr>\n",
       "  </tbody>\n",
       "</table>\n",
       "</div>"
      ],
      "text/plain": [
       "       y_pred=0  y_pred=1 Total\n",
       "                               \n",
       "y=0         196        33   229\n",
       "y=1          23       254   277\n",
       "Total       219       287      "
      ]
     },
     "metadata": {},
     "output_type": "display_data"
    },
    {
     "name": "stdout",
     "output_type": "stream",
     "text": [
      "total_error_rate: 11.0672%\n"
     ]
    },
    {
     "data": {
      "text/html": [
       "<h3>Random seed = 2</h3>"
      ],
      "text/plain": [
       "<IPython.core.display.HTML object>"
      ]
     },
     "metadata": {},
     "output_type": "display_data"
    },
    {
     "data": {
      "text/html": [
       "<div>\n",
       "<style scoped>\n",
       "    .dataframe tbody tr th:only-of-type {\n",
       "        vertical-align: middle;\n",
       "    }\n",
       "\n",
       "    .dataframe tbody tr th {\n",
       "        vertical-align: top;\n",
       "    }\n",
       "\n",
       "    .dataframe thead th {\n",
       "        text-align: right;\n",
       "    }\n",
       "</style>\n",
       "<table border=\"1\" class=\"dataframe\">\n",
       "  <thead>\n",
       "    <tr style=\"text-align: right;\">\n",
       "      <th></th>\n",
       "      <th>y_pred=0</th>\n",
       "      <th>y_pred=1</th>\n",
       "      <th>Total</th>\n",
       "    </tr>\n",
       "    <tr>\n",
       "      <th></th>\n",
       "      <th></th>\n",
       "      <th></th>\n",
       "      <th></th>\n",
       "    </tr>\n",
       "  </thead>\n",
       "  <tbody>\n",
       "    <tr>\n",
       "      <th>y=0</th>\n",
       "      <td>187</td>\n",
       "      <td>28</td>\n",
       "      <td>215</td>\n",
       "    </tr>\n",
       "    <tr>\n",
       "      <th>y=1</th>\n",
       "      <td>30</td>\n",
       "      <td>221</td>\n",
       "      <td>251</td>\n",
       "    </tr>\n",
       "    <tr>\n",
       "      <th>Total</th>\n",
       "      <td>217</td>\n",
       "      <td>249</td>\n",
       "      <td></td>\n",
       "    </tr>\n",
       "  </tbody>\n",
       "</table>\n",
       "</div>"
      ],
      "text/plain": [
       "       y_pred=0  y_pred=1 Total\n",
       "                               \n",
       "y=0         187        28   215\n",
       "y=1          30       221   251\n",
       "Total       217       249      "
      ]
     },
     "metadata": {},
     "output_type": "display_data"
    },
    {
     "name": "stdout",
     "output_type": "stream",
     "text": [
      "total_error_rate: 12.4464%\n"
     ]
    },
    {
     "data": {
      "text/html": [
       "<h3>Random seed = 3</h3>"
      ],
      "text/plain": [
       "<IPython.core.display.HTML object>"
      ]
     },
     "metadata": {},
     "output_type": "display_data"
    },
    {
     "data": {
      "text/html": [
       "<div>\n",
       "<style scoped>\n",
       "    .dataframe tbody tr th:only-of-type {\n",
       "        vertical-align: middle;\n",
       "    }\n",
       "\n",
       "    .dataframe tbody tr th {\n",
       "        vertical-align: top;\n",
       "    }\n",
       "\n",
       "    .dataframe thead th {\n",
       "        text-align: right;\n",
       "    }\n",
       "</style>\n",
       "<table border=\"1\" class=\"dataframe\">\n",
       "  <thead>\n",
       "    <tr style=\"text-align: right;\">\n",
       "      <th></th>\n",
       "      <th>y_pred=0</th>\n",
       "      <th>y_pred=1</th>\n",
       "      <th>Total</th>\n",
       "    </tr>\n",
       "    <tr>\n",
       "      <th></th>\n",
       "      <th></th>\n",
       "      <th></th>\n",
       "      <th></th>\n",
       "    </tr>\n",
       "  </thead>\n",
       "  <tbody>\n",
       "    <tr>\n",
       "      <th>y=0</th>\n",
       "      <td>187</td>\n",
       "      <td>36</td>\n",
       "      <td>223</td>\n",
       "    </tr>\n",
       "    <tr>\n",
       "      <th>y=1</th>\n",
       "      <td>29</td>\n",
       "      <td>260</td>\n",
       "      <td>289</td>\n",
       "    </tr>\n",
       "    <tr>\n",
       "      <th>Total</th>\n",
       "      <td>216</td>\n",
       "      <td>296</td>\n",
       "      <td></td>\n",
       "    </tr>\n",
       "  </tbody>\n",
       "</table>\n",
       "</div>"
      ],
      "text/plain": [
       "       y_pred=0  y_pred=1 Total\n",
       "                               \n",
       "y=0         187        36   223\n",
       "y=1          29       260   289\n",
       "Total       216       296      "
      ]
     },
     "metadata": {},
     "output_type": "display_data"
    },
    {
     "name": "stdout",
     "output_type": "stream",
     "text": [
      "total_error_rate: 12.6953%\n"
     ]
    }
   ],
   "source": [
    "# To have nice confusion table \n",
    "def confusion_table(confusion_mtx):\n",
    "   \n",
    "    confusion_df = pd.DataFrame({'y_pred=0': np.append(confusion_mtx[:, 0], confusion_mtx.sum(axis=0)[0]),\n",
    "                                 'y_pred=1': np.append(confusion_mtx[:, 1], confusion_mtx.sum(axis=0)[1]),\n",
    "                                 'Total': np.append(confusion_mtx.sum(axis=1), ''),\n",
    "                                 '': ['y=0', 'y=1', 'Total']}).set_index('')\n",
    "    return confusion_df\n",
    "\n",
    "def total_error_rate(confusion_matrix):\n",
    "  \n",
    "    return 1 - np.trace(confusion_mtx) / np.sum(confusion_mtx)\n",
    "\n",
    "\n",
    "\n",
    "for s in range(1,4):\n",
    "    display(HTML('<h3>Random seed = {}</h3>'.format(s)))\n",
    "    # Create index for 50% holdout set\n",
    "    np.random.seed(s)\n",
    "    train = np.random.rand(len(df)) < 0.5\n",
    "    \n",
    "    response   = 'y'\n",
    "    predictors = ['x1', 'x2', 'x3', 'x4', 'x5']\n",
    "    \n",
    "    X_train = np.array(df[train][predictors])\n",
    "    X_test  = np.array(df[~train][predictors])\n",
    "    y_train = np.array(df[train][response])\n",
    "    y_test  = np.array(df[~train][response])\n",
    "    \n",
    "    # Logistic regression\n",
    "    logit       = LogisticRegression()\n",
    "    model_logit = logit.fit(X_train, y_train)\n",
    "    \n",
    "    # Predict\n",
    "    y_pred = model_logit.predict(X_test)\n",
    "    \n",
    "    # Confusion mtx\n",
    "    confusion_mtx = confusion_matrix(y_test, y_pred)\n",
    "    display(confusion_table(confusion_mtx))\n",
    "    \n",
    "    total_error_rate_pct = np.around(total_error_rate(confusion_mtx) * 100, 4)\n",
    "    print('total_error_rate: {}%'.format(total_error_rate_pct))\n"
   ]
  },
  {
   "cell_type": "markdown",
   "metadata": {},
   "source": [
    "Leave-One-Out Cross-Validation:\n",
    "    1) Fit a logistic regression model that predicts the response (y) using x1,x2,x3,x4,x5  using all but the first observation.\n",
    "    2) Find whether this observation correctly classified?"
   ]
  },
  {
   "cell_type": "code",
   "execution_count": 5,
   "metadata": {},
   "outputs": [
    {
     "data": {
      "text/html": [
       "<div>\n",
       "<style scoped>\n",
       "    .dataframe tbody tr th:only-of-type {\n",
       "        vertical-align: middle;\n",
       "    }\n",
       "\n",
       "    .dataframe tbody tr th {\n",
       "        vertical-align: top;\n",
       "    }\n",
       "\n",
       "    .dataframe thead th {\n",
       "        text-align: right;\n",
       "    }\n",
       "</style>\n",
       "<table border=\"1\" class=\"dataframe\">\n",
       "  <thead>\n",
       "    <tr style=\"text-align: right;\">\n",
       "      <th></th>\n",
       "      <th>y_pred=0</th>\n",
       "      <th>y_pred=1</th>\n",
       "      <th>Total</th>\n",
       "    </tr>\n",
       "    <tr>\n",
       "      <th></th>\n",
       "      <th></th>\n",
       "      <th></th>\n",
       "      <th></th>\n",
       "    </tr>\n",
       "  </thead>\n",
       "  <tbody>\n",
       "    <tr>\n",
       "      <th>y=0</th>\n",
       "      <td>0</td>\n",
       "      <td>0</td>\n",
       "      <td>0</td>\n",
       "    </tr>\n",
       "    <tr>\n",
       "      <th>y=1</th>\n",
       "      <td>1</td>\n",
       "      <td>0</td>\n",
       "      <td>1</td>\n",
       "    </tr>\n",
       "    <tr>\n",
       "      <th>Total</th>\n",
       "      <td>1</td>\n",
       "      <td>0</td>\n",
       "      <td></td>\n",
       "    </tr>\n",
       "  </tbody>\n",
       "</table>\n",
       "</div>"
      ],
      "text/plain": [
       "       y_pred=0  y_pred=1 Total\n",
       "                               \n",
       "y=0           0         0     0\n",
       "y=1           1         0     1\n",
       "Total         1         0      "
      ]
     },
     "metadata": {},
     "output_type": "display_data"
    },
    {
     "name": "stdout",
     "output_type": "stream",
     "text": [
      "total_error_rate: 100.0%\n"
     ]
    }
   ],
   "source": [
    "# using all but the first observation\n",
    "\n",
    "train = df.index > 0\n",
    "\n",
    "response   = 'y'\n",
    "predictors = ['x1', 'x2', 'x3', 'x4', 'x5']\n",
    "\n",
    "X_train = np.array(df[train][predictors])\n",
    "X_test  = np.array(df[~train][predictors])\n",
    "y_train = np.array(df[train][response])\n",
    "y_test  = np.array(df[~train][response])\n",
    "\n",
    "# Logistic regression\n",
    "logit       = LogisticRegression(fit_intercept=True)\n",
    "model_logit = logit.fit(X_train, y_train)\n",
    "\n",
    "# Predict\n",
    "y_pred = model_logit.predict(X_test)\n",
    "\n",
    "# Analysis\n",
    "confusion_mtx = confusion_matrix(y_test, y_pred)\n",
    "\n",
    "display(confusion_table(confusion_mtx))\n",
    "total_error_rate_pct = np.around(total_error_rate(confusion_mtx) * 100, 4)\n",
    "print('total_error_rate: {}%'.format(total_error_rate_pct))\n"
   ]
  },
  {
   "cell_type": "markdown",
   "metadata": {},
   "source": [
    " Repeat the process above n time by writing a loop  from i = 1 to i = n, where n is the number of\n",
    "observations in the data set. "
   ]
  },
  {
   "cell_type": "code",
   "execution_count": 6,
   "metadata": {},
   "outputs": [
    {
     "data": {
      "text/html": [
       "<div>\n",
       "<style scoped>\n",
       "    .dataframe tbody tr th:only-of-type {\n",
       "        vertical-align: middle;\n",
       "    }\n",
       "\n",
       "    .dataframe tbody tr th {\n",
       "        vertical-align: top;\n",
       "    }\n",
       "\n",
       "    .dataframe thead th {\n",
       "        text-align: right;\n",
       "    }\n",
       "</style>\n",
       "<table border=\"1\" class=\"dataframe\">\n",
       "  <thead>\n",
       "    <tr style=\"text-align: right;\">\n",
       "      <th></th>\n",
       "      <th>y_pred=0</th>\n",
       "      <th>y_pred=1</th>\n",
       "      <th>Total</th>\n",
       "    </tr>\n",
       "    <tr>\n",
       "      <th></th>\n",
       "      <th></th>\n",
       "      <th></th>\n",
       "      <th></th>\n",
       "    </tr>\n",
       "  </thead>\n",
       "  <tbody>\n",
       "    <tr>\n",
       "      <th>y=0</th>\n",
       "      <td>387</td>\n",
       "      <td>61</td>\n",
       "      <td>448</td>\n",
       "    </tr>\n",
       "    <tr>\n",
       "      <th>y=1</th>\n",
       "      <td>68</td>\n",
       "      <td>484</td>\n",
       "      <td>552</td>\n",
       "    </tr>\n",
       "    <tr>\n",
       "      <th>Total</th>\n",
       "      <td>455</td>\n",
       "      <td>545</td>\n",
       "      <td></td>\n",
       "    </tr>\n",
       "  </tbody>\n",
       "</table>\n",
       "</div>"
      ],
      "text/plain": [
       "       y_pred=0  y_pred=1 Total\n",
       "                               \n",
       "y=0         387        61   448\n",
       "y=1          68       484   552\n",
       "Total       455       545      "
      ]
     },
     "metadata": {},
     "output_type": "display_data"
    },
    {
     "name": "stdout",
     "output_type": "stream",
     "text": [
      "total_error_rate: 12.9%\n"
     ]
    }
   ],
   "source": [
    "response   = 'y'\n",
    "predictors = ['x1', 'x2', 'x3', 'x4', 'x5']\n",
    "y_pred = []\n",
    "\n",
    "for i in range(df.shape[0]):\n",
    "  \n",
    "    train = df.index != i\n",
    "    \n",
    "    X_train = np.array(df[train][predictors])\n",
    "    X_test  = np.array(df[~train][predictors])\n",
    "    y_train = np.array(df[train][response])\n",
    "    \n",
    "    # Logistic regression\n",
    "    logit       = LogisticRegression()\n",
    "    model_logit = logit.fit(X_train, y_train)\n",
    "    \n",
    "    # Predict\n",
    "    y_pred += [model_logit.predict(X_test)] \n",
    "    \n",
    "y_pred = np.array(y_pred)\n",
    "y_test = df[response]\n",
    "\n",
    "# Analysis\n",
    "confusion_mtx = confusion_matrix(y_test, y_pred)\n",
    "display(confusion_table(confusion_mtx))\n",
    "\n",
    "total_error_rate_pct = np.around(total_error_rate(confusion_mtx) * 100, 4)\n",
    "print('total_error_rate: {}%'.format(total_error_rate_pct))\n"
   ]
  },
  {
   "cell_type": "code",
   "execution_count": null,
   "metadata": {},
   "outputs": [],
   "source": []
  }
 ],
 "metadata": {
  "kernelspec": {
   "display_name": "Python 3",
   "language": "python",
   "name": "python3"
  },
  "language_info": {
   "codemirror_mode": {
    "name": "ipython",
    "version": 3
   },
   "file_extension": ".py",
   "mimetype": "text/x-python",
   "name": "python",
   "nbconvert_exporter": "python",
   "pygments_lexer": "ipython3",
   "version": "3.8.5"
  }
 },
 "nbformat": 4,
 "nbformat_minor": 4
}
